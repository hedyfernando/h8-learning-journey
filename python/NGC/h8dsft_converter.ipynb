{
 "cells": [
  {
   "cell_type": "code",
   "execution_count": 2,
   "metadata": {},
   "outputs": [],
   "source": [
    "def konversi_suhu(suhu): # mendefinisikan fungsi konversi suhu dengan parameter suhu yang berasal dari input\n",
    "    sign = suhu[-1] # mengambil karakter terakhir dari input untuk tanda suhu\n",
    "    suhux = float(suhu[:-1]) # merubah angka bertipe data string menjadi tipe data float\n",
    "    \n",
    "    # Konversi dari Celcius\n",
    "    if suhu[-1] == 'c' or suhu[-1] == 'C': # mengambil karakter terakhir berupa c atau celcius sebagai argument kondisi if\n",
    "        x1 = (suhux * 9/5) + 32  # statement berupa operasi rumus dari celcius ke fahrenheit\n",
    "        x2 = suhux + 273.15      # statement berupa operasi rumus dari celcius ke kelvin\n",
    "        suhu1= 'f'\n",
    "        suhu2= 'k'\n",
    "        print(f'Hasil konversi dari {suhux}{sign} adalah', '{:.1f}'.format(x1), suhu1)\n",
    "        print(f'Hasil konversi dari {suhux}{sign} adalah', '{:.1f}'.format(x2), suhu2)\n",
    "\n",
    "    # Konversi dari Kelvin\n",
    "    elif suhu[-1] == 'k' or suhu[-1] == 'K': # mengambil karakter terakhir berupa k atau kelvin sebagai argument kondisi if\n",
    "        x1 = suhux - 273.15   # statement berupa operasi rumus dari kelvin ke celcius\n",
    "        x2 = (suhux - 273.15) * 9/5 + 32  # statement berupa operasi rumus dari kelvin ke fahrenheit\n",
    "        suhu1 = 'c'\n",
    "        suhu2 = 'f'\n",
    "        print(f'Hasil konversi dari {suhux}{sign} adalah', '{:.1f}'.format(x1), suhu1)\n",
    "        print(f'Hasil konversi dari {suhux}{sign} adalah', '{:.1f}'.format(x2), suhu2)\n",
    "\n",
    "    # Konversi dari fahrenheit\n",
    "    elif suhu[-1] == 'f' or suhu[-1] == 'F': # mengambil karakter terakhir berupa f atau fahrenheit sebagai argument kondisi if\n",
    "        x1 =  (suhux- 32) * 5/9   # statement berupa operasi rumus dari fahrenheit ke celcius\n",
    "        x2 = (suhux - 32) * 5/9 + 273.15  # statement berupa operasi rumus dari fahrenheit ke kelvin\n",
    "        suhu1 = 'c'\n",
    "        suhu2 = 'k'\n",
    "        print(f'Hasil konversi dari {suhux}{sign} adalah', '{:.1f}'.format(x1), suhu1)\n",
    "        print(f'Hasil konversi dari {suhux}{sign} adalah', '{:.1f}'.format(x2), suhu2)\n",
    "    else:\n",
    "        print(\"Silahkan masukkan nilai yang benar\")\n",
    "\n"
   ]
  },
  {
   "cell_type": "code",
   "execution_count": 3,
   "metadata": {},
   "outputs": [
    {
     "name": "stdout",
     "output_type": "stream",
     "text": [
      "--------------Konversi Suhu---------------\n",
      "Hasil konversi dari 100.0c adalah 212.0 f\n",
      "Hasil konversi dari 100.0c adalah 373.1 k\n"
     ]
    }
   ],
   "source": [
    "print('--------------Konversi Suhu---------------')\n",
    "suhu = input(\"Masukkan suhu yang mau di konversi= \") # operasi input dalam variabel suhu\n",
    "konversi_suhu(suhu) # memanggil fungsi konversi_suhu"
   ]
  },
  {
   "cell_type": "code",
   "execution_count": 9,
   "metadata": {},
   "outputs": [
    {
     "name": "stdout",
     "output_type": "stream",
     "text": [
      "Hasil konversi dari 100.0c adalah 212.0 f\n",
      "Hasil konversi dari 100.0c adalah 373.1 k\n"
     ]
    }
   ],
   "source": [
    "suhu = '100c'\n",
    "konversi_suhu(suhu)"
   ]
  },
  {
   "cell_type": "code",
   "execution_count": 10,
   "metadata": {},
   "outputs": [
    {
     "name": "stdout",
     "output_type": "stream",
     "text": [
      "Hasil konversi dari 100.0k adalah -173.1 c\n",
      "Hasil konversi dari 100.0k adalah -279.7 f\n"
     ]
    }
   ],
   "source": [
    "suhu = '100k'\n",
    "konversi_suhu(suhu)"
   ]
  },
  {
   "cell_type": "code",
   "execution_count": 11,
   "metadata": {},
   "outputs": [
    {
     "name": "stdout",
     "output_type": "stream",
     "text": [
      "Hasil konversi dari 100.0f adalah 37.8 c\n",
      "Hasil konversi dari 100.0f adalah 310.9 k\n"
     ]
    }
   ],
   "source": [
    "suhu = '100f'\n",
    "konversi_suhu(suhu)"
   ]
  }
 ],
 "metadata": {
  "kernelspec": {
   "display_name": "Python 3.10.4 64-bit",
   "language": "python",
   "name": "python3"
  },
  "language_info": {
   "codemirror_mode": {
    "name": "ipython",
    "version": 3
   },
   "file_extension": ".py",
   "mimetype": "text/x-python",
   "name": "python",
   "nbconvert_exporter": "python",
   "pygments_lexer": "ipython3",
   "version": "3.10.4"
  },
  "orig_nbformat": 4,
  "vscode": {
   "interpreter": {
    "hash": "916dbcbb3f70747c44a77c7bcd40155683ae19c65e1c03b4aa3499c5328201f1"
   }
  }
 },
 "nbformat": 4,
 "nbformat_minor": 2
}
